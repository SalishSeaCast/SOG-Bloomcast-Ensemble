{
 "metadata": {
  "name": ""
 },
 "nbformat": 3,
 "nbformat_minor": 0,
 "worksheets": [
  {
   "cells": [
    {
     "cell_type": "markdown",
     "metadata": {},
     "source": [
      "#Analysis of SoG-bloomcast Ensemble Forecast Runs\n",
      "\n",
      "This is the analysis of the first attempt at using an ensemble forecast method\n",
      "for SoG-bloomcast.\n",
      "The ensemble members are SOG runs for the 2014 bloom using real forcing data\n",
      "up to 2014-03-15 and historical forcing data from 1980 through 2010 thereafter;\n",
      "i.e. 30 ensemble members."
     ]
    },
    {
     "cell_type": "code",
     "collapsed": false,
     "input": [
      "import datetime\n",
      "\n",
      "import matplotlib.pyplot as plt\n",
      "import numpy as np\n",
      "\n",
      "import bloomcast.ensemble"
     ],
     "language": "python",
     "metadata": {},
     "outputs": [],
     "prompt_number": 1
    },
    {
     "cell_type": "code",
     "collapsed": false,
     "input": [
      "%matplotlib inline"
     ],
     "language": "python",
     "metadata": {},
     "outputs": [],
     "prompt_number": 2
    },
    {
     "cell_type": "markdown",
     "metadata": {},
     "source": [
      "Bloom peak identification parameters based on:\n",
      "\n",
      "        Allen & Wolfe, 2013 [1]:\n",
      "\n",
      "        \"Although the idea of a spring bloom is well-defined, the exact\n",
      "        timing of a real spring bloom is not.  In Collins, et al, 2009 [2]\n",
      "        the peak of the bloom was defined as the highest concentration of\n",
      "        phytoplankton unless an earlier bloom (more than 5 days earlier) was\n",
      "        associated with nitrate going to zero.  Gower, et al, 2013 [3] using satellite\n",
      "        data chooses a measure of the start of the bloom as the time when\n",
      "        the whole Strait of Georgia has high chlorophyll.  The nutritional\n",
      "        quality of the phytoplankton appears to change when they become nutrient\n",
      "        limited Sastri & Dower, 2009 [4].  Thus here we use a definition\n",
      "        that should delineate between nutrient replete spring conditions\n",
      "        and nutrient stressed summer conditions.  We use the peak\n",
      "        phytoplankton concentration (averaged from the surface to 3 m\n",
      "        depth) within four days of the average 0-3 m nitrate concentration\n",
      "        going below 0.5 uM (the half-saturation concentration) for two\n",
      "        consecutive days.\"\n",
      "        \n",
      "[1] Allen, S. E. and M. A. Wolfe,\n",
      "Hindcast of the Timing of the Spring Phytoplankton Bloom in the Strait of Georgia, 1968-2010.\n",
      "Progress in Oceanography, vol 115 (2013), pp. 6-13.\n",
      "http://dx.doi.org/10.1016/j.pocean.2013.05.026\n",
      "\n",
      "[2] A.K. Collins, S.E. Allen, R. Pawlowicz,\n",
      "The role of wind in determining the timing of the spring bloom in the Strait of Georgia.\n",
      "Canadian Journal of Fisheries and Aquatic Sciences, 66 (2009), pp. 1597\u20131616.\n",
      "http://dx.doi.org/10.1139/F09-071\n",
      "\n",
      "[3] Gower, J., King, S., Statham, S., Fox, R., Young, E.,\n",
      "The Malaspina Dragon: a new pattern of the early spring bloom in the Strait of Georgia. \n",
      "Progress in Oceanography 115 (2013), pp. 181\u2013188.\n",
      "http://dx.doi.org/10.1016/j.pocean.2013.05.024\n",
      "\n",
      "[4] A.R. Sastri and J.F. Dower,\n",
      "Interannual variability in chitobiase-based production rates of the crustacean zooplankton community in the Strait of Georgia, British Columbia, Canada.\n",
      "Marine Ecology-Progress Series, 388 (2009), pp. 147\u2013157.\n",
      "http://dx.doi.org/10.3354/meps08111"
     ]
    },
    {
     "cell_type": "code",
     "collapsed": false,
     "input": [
      "NITRATE_HALF_SATURATION_CONCENTRATION = 0.5  # uM\n",
      "PHYTOPLANKTON_PEAK_WINDOW_HALF_WIDTH = 4     # days"
     ],
     "language": "python",
     "metadata": {},
     "outputs": [],
     "prompt_number": 3
    },
    {
     "cell_type": "markdown",
     "metadata": {},
     "source": [
      "Ensemble parameter values and initialization:"
     ]
    },
    {
     "cell_type": "code",
     "collapsed": false,
     "input": [
      "ensemble_start_year = 1981\n",
      "ensemble_end_year = 2010\n",
      "run_start_date = datetime.datetime(2013, 9, 19)\n",
      "SOG_timestep = 900\n",
      "bio_filename_root = '../run/timeseries/std_bio_2014_bloomcast.out'\n",
      "nitrate, diatoms = {}, {}"
     ],
     "language": "python",
     "metadata": {},
     "outputs": [],
     "prompt_number": 4
    },
    {
     "cell_type": "markdown",
     "metadata": {},
     "source": [
      "Load nitrate and diatom biomass timeseries results for each ensemble member:"
     ]
    },
    {
     "cell_type": "code",
     "collapsed": false,
     "input": [
      "for year in range(ensemble_start_year, ensemble_end_year + 1):\n",
      "    member = bloomcast.ensemble.two_yr_suffix(year)\n",
      "    nitrate[member] = bloomcast.utils.SOG_Timeseries(bio_filename_root + member)\n",
      "    nitrate[member].read_data('time', '3 m avg nitrate concentration')\n",
      "    nitrate[member].calc_mpl_dates(run_start_date)\n",
      "    diatoms[member] = bloomcast.utils.SOG_Timeseries(bio_filename_root + member)\n",
      "    diatoms[member].read_data('time', '3 m avg micro phytoplankton biomass')\n",
      "    diatoms[member].calc_mpl_dates(run_start_date)"
     ],
     "language": "python",
     "metadata": {},
     "outputs": [],
     "prompt_number": 5
    },
    {
     "cell_type": "markdown",
     "metadata": {},
     "source": [
      "Calculate the date of the peak of the bloom for each ensemble member.\n",
      "Steps:\n",
      "\n",
      " * Clip the results timeseries to start on 1-Jan\n",
      " because we want to be sure to exclude any fall bloom signals\n",
      " * Reduce the timeseries to daily values\n",
      " * Calculate the start and end dates of the first 2 day period\n",
      " in which the nitrate concentration is below the \n",
      " half-saturation concentration threshold\n",
      " * Calculate the date of maximum phytoplankton biomass within the\n",
      " peak window relative to the nitrate depletion period"
     ]
    },
    {
     "cell_type": "code",
     "collapsed": false,
     "input": [
      "def clip_results_to_jan1(nitrate, diatoms, run_start_date):\n",
      "    \"\"\"Clip the nitrate concentration and diatom biomass results\n",
      "    so that they start on 1-Jan of the bloom year.\n",
      "    \"\"\"\n",
      "    jan1 = datetime.datetime(run_start_date.year + 1, 1, 1)\n",
      "    discard_hours = jan1 - run_start_date\n",
      "    discard_hours = discard_hours.days * 24 + discard_hours.seconds / 3600\n",
      "    for member in nitrate:\n",
      "        predicate = nitrate[member].indep_data >= discard_hours\n",
      "        nitrate[member].boolean_slice(predicate)\n",
      "        diatoms[member].boolean_slice(predicate)\n",
      "\n",
      "clip_results_to_jan1(nitrate, diatoms, run_start_date)"
     ],
     "language": "python",
     "metadata": {},
     "outputs": [],
     "prompt_number": 6
    },
    {
     "cell_type": "code",
     "collapsed": false,
     "input": [
      "def reduce_results_to_daily(nitrate, diatoms, run_start_date, SOG_timestep):\n",
      "    \"\"\"Reduce the nitrate concentration and diatom biomass results\n",
      "    to daily values.\n",
      "\n",
      "    Nitrate concentrations are daily minimum values.\n",
      "\n",
      "    Diatom biomasses are daily maximum values.\n",
      "\n",
      "    Independent data values are dates.\n",
      "    \"\"\"\n",
      "    # Assume that there are an integral nummber of SOG time steps in a\n",
      "    # day\n",
      "    day_slice = 86400 // SOG_timestep\n",
      "    jan1 = datetime.date(run_start_date.year + 1, 1, 1)\n",
      "    for member in nitrate:\n",
      "        last_day = nitrate[member].dep_data.shape[0] - day_slice\n",
      "        day_iterator = range(0, last_day, day_slice)\n",
      "        nitrate[member].dep_data = np.array(\n",
      "            [nitrate[member].dep_data[i:i + day_slice].min()\n",
      "             for i in day_iterator])\n",
      "        nitrate[member].indep_data = np.array(\n",
      "            [jan1 + datetime.timedelta(days=i)\n",
      "             for i in range(nitrate[member].dep_data.size)])\n",
      "        \n",
      "        last_day = diatoms[member].dep_data.shape[0] - day_slice\n",
      "        day_iterator = range(0, last_day, day_slice)\n",
      "        diatoms[member].dep_data = np.array(\n",
      "            [diatoms[member].dep_data[i:i + day_slice].max()\n",
      "             for i in day_iterator])\n",
      "        diatoms[member].indep_data = np.array(\n",
      "            [jan1 + datetime.timedelta(days=i)\n",
      "             for i in range(diatoms[member].dep_data.size)])\n",
      "\n",
      "reduce_results_to_daily(nitrate, diatoms, run_start_date, SOG_timestep)"
     ],
     "language": "python",
     "metadata": {},
     "outputs": [],
     "prompt_number": 7
    },
    {
     "cell_type": "code",
     "collapsed": false,
     "input": [
      "def find_low_nitrate_days(nitrate, threshold):\n",
      "    \"\"\"Return the start and end dates of the first 2 day period in\n",
      "    which the nitrate concentration is below the ``threshold``.\n",
      "    \"\"\"\n",
      "    first_low_nitrate_days = {}\n",
      "    for member in nitrate:\n",
      "        nitrate[member].boolean_slice(nitrate[member].dep_data <= threshold)\n",
      "        for i in range(nitrate[member].dep_data.shape[0]):\n",
      "            low_nitrate_day_1 = nitrate[member].indep_data[i]\n",
      "            days = nitrate[member].indep_data[i + 1] - low_nitrate_day_1\n",
      "            if days == datetime.timedelta(days=1):\n",
      "                low_nitrate_day_2 = nitrate[member].indep_data[i + 1]\n",
      "                break\n",
      "        first_low_nitrate_days[member] = (low_nitrate_day_1, low_nitrate_day_2)\n",
      "    return first_low_nitrate_days\n",
      "\n",
      "first_low_nitrate_days = find_low_nitrate_days(nitrate, NITRATE_HALF_SATURATION_CONCENTRATION)"
     ],
     "language": "python",
     "metadata": {},
     "outputs": [],
     "prompt_number": 8
    },
    {
     "cell_type": "code",
     "collapsed": false,
     "input": [
      "def find_phytoplankton_peak(diatoms, first_low_nitrate_days, peak_half_width):\n",
      "    \"\"\"Return the date within ``peak_half_width`` of the\n",
      "    ``first_low_nitrate_days`` on which the diatoms biomass is the\n",
      "    greatest.\n",
      "    \"\"\"\n",
      "    half_width_days = datetime.timedelta(days=peak_half_width)\n",
      "    bloom_dates, bloom_biomasses = {}, {}\n",
      "    for member in diatoms:\n",
      "        bloom_window_start = first_low_nitrate_days[member][0] - half_width_days\n",
      "        bloom_window_end = first_low_nitrate_days[member][1] + half_width_days\n",
      "        diatoms[member].boolean_slice(diatoms[member].indep_data >= bloom_window_start)\n",
      "        diatoms[member].boolean_slice(diatoms[member].indep_data <= bloom_window_end)\n",
      "        bloom_date_index = diatoms[member].dep_data.argmax()\n",
      "        bloom_dates[member] = diatoms[member].indep_data[bloom_date_index]\n",
      "        bloom_biomasses[member] = diatoms[member].dep_data[bloom_date_index]\n",
      "    return bloom_dates, bloom_biomasses\n",
      "\n",
      "bloom_dates, bloom_biomasses = find_phytoplankton_peak(\n",
      "    diatoms, first_low_nitrate_days, PHYTOPLANKTON_PEAK_WINDOW_HALF_WIDTH)"
     ],
     "language": "python",
     "metadata": {},
     "outputs": [],
     "prompt_number": 9
    },
    {
     "cell_type": "markdown",
     "metadata": {},
     "source": [
      "Convert bloom dates to year-day values so that we can do statistics on them more easily."
     ]
    },
    {
     "cell_type": "code",
     "collapsed": false,
     "input": [
      "jan1_ordinal = datetime.date(2014, 1, 1).toordinal()\n",
      "for member, bloom_date in bloom_dates.items():\n",
      "    bloom_dates[member] = {\n",
      "        'date': bloom_date,\n",
      "        'year_day': bloom_date.toordinal() - jan1_ordinal + 1\n",
      "    }\n",
      "year_days = np.array([bloom_date['year_day'] for bloom_date in bloom_dates.values()])\n",
      "year_days"
     ],
     "language": "python",
     "metadata": {},
     "outputs": [
      {
       "metadata": {},
       "output_type": "pyout",
       "prompt_number": 10,
       "text": [
        "array([78, 99, 87, 79, 86, 87, 93, 79, 80, 96, 88, 84, 83, 81, 88, 80, 80,\n",
        "       79, 91, 86, 84, 86, 82, 82, 82, 92, 98, 78, 95, 88])"
       ]
      }
     ],
     "prompt_number": 10
    },
    {
     "cell_type": "code",
     "collapsed": false,
     "input": [
      "def todate(year_day, jan1=datetime.date(2014, 1, 1)):\n",
      "    return datetime.date.fromordinal(jan1.toordinal() + int(year_day) - 1)\n",
      "\n",
      "def percentiles(year_days, q_values, description=''):\n",
      "    year_days_result = np.percentile(year_days, q_values)\n",
      "    try:\n",
      "        year_days_result = (\n",
      "            np.trunc(year_days_result[0]),\n",
      "            np.ceil(year_days_result[1])\n",
      "        )\n",
      "    except IndexError:\n",
      "        year_days_result = np.rint(year_days_result)\n",
      "\n",
      "    output = '{}:'.format(description)\n",
      "    try:\n",
      "        for result in year_days_result:\n",
      "            output = ' '.join((output, '{:.0f}'.format(result)))\n",
      "            output = ' '.join((output, '{:%d-%b}'.format(todate(result))))\n",
      "    except TypeError:\n",
      "        output = ' '.join((output, '{:.0f}'.format(year_days_result)))\n",
      "        output = ' '.join((output, '{:%d-%b}'.format(todate(year_days_result))))\n",
      "    print(output)\n",
      "    \n",
      "percentiles(year_days, 50, 'median')\n",
      "percentiles(year_days, (25, 75), 'quartiles')\n",
      "percentiles(year_days, (10, 90), 'deciles')\n",
      "percentiles(year_days, (5, 95), '5/95 centiles')\n",
      "percentiles(year_days, (0, 100), 'min/max')"
     ],
     "language": "python",
     "metadata": {},
     "outputs": [
      {
       "output_type": "stream",
       "stream": "stdout",
       "text": [
        "median: 85 26-Mar\n",
        "quartiles: 80 21-Mar 88 29-Mar\n",
        "deciles: 79 20-Mar 96 06-Apr\n",
        "5/95 centiles: 78 19-Mar 98 08-Apr\n",
        "min/max: 78 19-Mar 99 09-Apr\n"
       ]
      }
     ],
     "prompt_number": 17
    },
    {
     "cell_type": "code",
     "collapsed": false,
     "input": [
      "ax = plt.subplot(1, 1, 1)\n",
      "counts, bins, patches = ax.hist(year_days, bins=21)\n",
      "ax.set_xlabel('Year-Day')\n",
      "ax.set_ylabel('Counts')\n",
      "ax.set_title('Distribution of Bloom Dates')"
     ],
     "language": "python",
     "metadata": {},
     "outputs": [
      {
       "metadata": {},
       "output_type": "pyout",
       "prompt_number": 12,
       "text": [
        "<matplotlib.text.Text at 0x105bb5d90>"
       ]
      },
      {
       "metadata": {},
       "output_type": "display_data",
       "png": "[encoded data removed]",
       "text": [
        "<matplotlib.figure.Figure at 0x108121c10>"
       ]
      }
     ],
     "prompt_number": 12
    },
    {
     "cell_type": "markdown",
     "metadata": {},
     "source": [
      "Find the ensemble members that correspond to the median, \n",
      "5th centile,\n",
      "and 95th centile dates.\n",
      "If there are no members for those dates,\n",
      "look at members on the days before and after."
     ]
    },
    {
     "cell_type": "code",
     "collapsed": false,
     "input": [
      "def find_members(bloom_dates, year_day):\n",
      "    for member, bloom_date in bloom_dates.items():\n",
      "        if bloom_date['year_day'] == year_day:\n",
      "            print(year_day, member)\n",
      "            \n",
      "print('members for median on year-day 85:')\n",
      "find_members(bloom_dates, 85)\n",
      "find_members(bloom_dates, 84)\n",
      "find_members(bloom_dates, 86)\n",
      "\n",
      "print('members for 5th centile on year-day 78:')\n",
      "find_members(bloom_dates, 78)\n",
      "\n",
      "print('members for 95th centile on year-day 98:')\n",
      "find_members(bloom_dates, 98)"
     ],
     "language": "python",
     "metadata": {},
     "outputs": [
      {
       "output_type": "stream",
       "stream": "stdout",
       "text": [
        "members for median on year-day 85:\n",
        "84 _9697\n",
        "84 _0405\n",
        "86 _9495\n",
        "86 _9394\n",
        "86 _9293\n",
        "members for 5th centile on year-day 78:\n",
        "78 _8283\n",
        "78 _9192\n",
        "members for 95th centile on year-day 98:\n",
        "98 _0809\n"
       ]
      }
     ],
     "prompt_number": 27
    },
    {
     "cell_type": "markdown",
     "metadata": {},
     "source": [
      "In the cases where there are multiple members for a date,\n",
      "chose the member based on the most recent weather."
     ]
    },
    {
     "cell_type": "code",
     "collapsed": false,
     "input": [
      "prediction = '_0405'\n",
      "ea"
     ],
     "language": "python",
     "metadata": {},
     "outputs": []
    }
   ],
   "metadata": {}
  }
 ]
}